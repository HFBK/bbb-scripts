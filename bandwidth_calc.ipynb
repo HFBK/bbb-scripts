{
  "cells": [
    {
      "cell_type": "markdown",
      "source": [
        "# BBB Bandwidth calculations\n",
        "\n",
        "See [here](https://docs.bigbluebutton.org/support/faq.html#what-are-the-minimum-bandwidth-requirements-for-the-bigbluebutton-server) for documentation and Details."
      ],
      "metadata": {
        "nteract": {
          "transient": {
            "deleting": false
          }
        }
      }
    },
    {
      "cell_type": "code",
      "source": [
        "# Mbit/s multiplier by resolution\n",
        "video_multipliers = {\n",
        "    \"320x240\" : 0.25, # Mbit/s,\n",
        "    \"640x480\" : 0.40,\n",
        "    \"1280x720\": 0.60\n",
        "}\n",
        "\n",
        "# Number of people and what they do\n",
        "people = {\n",
        "    \"watching\" : 130,\n",
        "    \"webcam on\" : 2,\n",
        "    \"mic on\": 100\n",
        "}\n",
        "\n",
        "# Mbit/s multiplier when Screensharing\n",
        "screensharing = {\n",
        "    \"min\" : 0.2, # Mbit/s,\n",
        "    \"max\" : 1.0\n",
        "}\n",
        "\n",
        "# Mbit/s multiplier for voip\n",
        "voip = 0.04 # Mbit/s,\n",
        "\n",
        "def incoming_bandwidth(video_multiplier: float, voip: float, people: dict) -> float:\n",
        "  video_bandwidth = people[\"webcam on\"] * video_multiplier \n",
        "  voip_bandwidth = people[\"mic on\"] * voip\n",
        "  return video_bandwidth + voip_bandwidth\n",
        "\n",
        "def outgoing_bandwidth(video_multiplier: float, voip: float, screensharing: float, people: dict) -> float:\n",
        "  video_bandwith = people[\"webcam on\"] * (people[\"watching\"]-1) * video_multiplier\n",
        "  screensharing_bandwidth = people[\"watching\"] * screensharing\n",
        "  voip_bandwidth = people[\"watching\"] * voip\n",
        "  return video_bandwith + screensharing_bandwidth + voip_bandwidth"
      ],
      "outputs": [],
      "execution_count": 38,
      "metadata": {
        "collapsed": true,
        "jupyter": {
          "source_hidden": false,
          "outputs_hidden": false
        },
        "nteract": {
          "transient": {
            "deleting": false
          }
        },
        "execution": {
          "iopub.status.busy": "2020-06-13T09:27:52.530Z",
          "iopub.execute_input": "2020-06-13T09:27:52.532Z",
          "iopub.status.idle": "2020-06-13T09:27:52.534Z",
          "shell.execute_reply": "2020-06-13T09:27:52.535Z"
        }
      }
    },
    {
      "cell_type": "code",
      "source": [
        "print(\"  Needed Bandwidth for {:>3} viewers, where:\".format(people[\"watching\"]))\n",
        "print(\"                       {:>3} webcams\".format(people[\"webcam on\"]))\n",
        "print(\"                       {:>3} mics\".format(people[\"mic on\"]))\n",
        "print()\n",
        "\n",
        "# Print needed Bandwith for each\n",
        "for resolution, multiplier in video_multipliers.items():\n",
        "  print('{:-^80}'.format(\" [Webcams at {}] \".format(resolution)))\n",
        "  in_bw = incoming_bandwidth(multiplier, voip, people)\n",
        "  out_bw = outgoing_bandwidth(multiplier, voip, screensharing[\"max\"], people)\n",
        "  print(\"    Incoming Bandwidth:    {:02.2f} Mbit/s\".format(in_bw))\n",
        "  print(\"    Outgoing Bandwidth:    {:02.2f} Mbit/s (w/  Screensharing)\".format(out_bw))\n",
        "  out_bw = outgoing_bandwidth(multiplier, voip, 0.0, people)\n",
        "  print(\"    Outgoing Bandwidth:    {:02.2f} Mbit/s (w/o Screensharing)\".format(out_bw))\n",
        "  print()"
      ],
      "outputs": [
        {
          "output_type": "stream",
          "name": "stdout",
          "text": [
            "  Needed Bandwidth for 130 viewers, where:\n",
            "                         2 webcams\n",
            "                       100 mics\n",
            "\n",
            "----------------------------- [Webcams at 320x240] -----------------------------\n",
            "    Incoming Bandwidth:    4.50 Mbit/s\n",
            "    Outgoing Bandwidth:    199.70 Mbit/s (w/  Screensharing)\n",
            "    Outgoing Bandwidth:    69.70 Mbit/s (w/o Screensharing)\n",
            "\n",
            "----------------------------- [Webcams at 640x480] -----------------------------\n",
            "    Incoming Bandwidth:    4.80 Mbit/s\n",
            "    Outgoing Bandwidth:    238.40 Mbit/s (w/  Screensharing)\n",
            "    Outgoing Bandwidth:    108.40 Mbit/s (w/o Screensharing)\n",
            "\n",
            "---------------------------- [Webcams at 1280x720] -----------------------------\n",
            "    Incoming Bandwidth:    5.20 Mbit/s\n",
            "    Outgoing Bandwidth:    290.00 Mbit/s (w/  Screensharing)\n",
            "    Outgoing Bandwidth:    160.00 Mbit/s (w/o Screensharing)\n",
            "\n"
          ]
        }
      ],
      "execution_count": 47,
      "metadata": {
        "collapsed": true,
        "jupyter": {
          "source_hidden": false,
          "outputs_hidden": false
        },
        "nteract": {
          "transient": {
            "deleting": false
          }
        },
        "execution": {
          "iopub.status.busy": "2020-06-13T09:29:49.496Z",
          "iopub.execute_input": "2020-06-13T09:29:49.497Z",
          "iopub.status.idle": "2020-06-13T09:29:49.501Z",
          "shell.execute_reply": "2020-06-13T09:29:49.502Z"
        }
      }
    },
    {
      "cell_type": "code",
      "source": [],
      "outputs": [],
      "execution_count": null,
      "metadata": {
        "collapsed": true,
        "jupyter": {
          "source_hidden": false,
          "outputs_hidden": false
        },
        "nteract": {
          "transient": {
            "deleting": false
          }
        }
      }
    }
  ],
  "metadata": {
    "kernel_info": {
      "name": "python3"
    },
    "language_info": {
      "name": "python",
      "version": "3.8.2",
      "mimetype": "text/x-python",
      "codemirror_mode": {
        "name": "ipython",
        "version": 3
      },
      "pygments_lexer": "ipython3",
      "nbconvert_exporter": "python",
      "file_extension": ".py"
    },
    "kernelspec": {
      "argv": [
        "/usr/bin/python3",
        "-m",
        "ipykernel_launcher",
        "-f",
        "{connection_file}"
      ],
      "display_name": "Python 3",
      "language": "python",
      "name": "python3"
    },
    "nteract": {
      "version": "0.23.3"
    }
  },
  "nbformat": 4,
  "nbformat_minor": 0
}